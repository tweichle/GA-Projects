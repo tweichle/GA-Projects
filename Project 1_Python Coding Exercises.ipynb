{
 "cells": [
  {
   "cell_type": "code",
   "execution_count": 1,
   "metadata": {},
   "outputs": [],
   "source": [
    "import numpy as np"
   ]
  },
  {
   "cell_type": "markdown",
   "metadata": {},
   "source": [
    "### Challenge 1: Largest Palindrome\n",
    "A palindromic number reads the same both ways. For example, 1234321 is a palindrome. The largest palindrome made from the product of two two-digit numbers is 9009 = 91 × 99. Find the largest palindrome made from the product of two three-digit numbers. Afterward, write a brief explanation walking through your code's logic in markdown."
   ]
  },
  {
   "cell_type": "code",
   "execution_count": 2,
   "metadata": {},
   "outputs": [],
   "source": [
    "# Creating lists of three digit numbers from 100 to 999\n",
    "three_digit_list1 = list(range(100, 1000, 1))\n",
    "#print(three_digit_list1)\n",
    "three_digit_list2 = list(range(100, 1000, 1))\n",
    "#print(three_digit_list2)"
   ]
  },
  {
   "cell_type": "code",
   "execution_count": 3,
   "metadata": {},
   "outputs": [
    {
     "name": "stdout",
     "output_type": "stream",
     "text": [
      "10000\n",
      "998001\n"
     ]
    }
   ],
   "source": [
    "# Multiplying all the elements in list1 and list2\n",
    "product = [i * j for i in three_digit_list2 for j in three_digit_list1]\n",
    "#print(product)\n",
    "\n",
    "# Min value\n",
    "print(100*100)\n",
    "# Max value\n",
    "print(999*999)"
   ]
  },
  {
   "cell_type": "code",
   "execution_count": 4,
   "metadata": {
    "scrolled": false
   },
   "outputs": [
    {
     "name": "stdout",
     "output_type": "stream",
     "text": [
      "<class 'list'>\n",
      "There are 227521 unique values\n"
     ]
    }
   ],
   "source": [
    "# Find the unique values from the product list because there are duplicates\n",
    "# The unique() function also sorts the values\n",
    "product_unique = np.unique(product).tolist()\n",
    "#print(product_unique)\n",
    "print(type(product_unique))\n",
    "print('There are ' + str(len(product_unique)) + ' unique values')\n",
    "#print(product_unique[0:50])"
   ]
  },
  {
   "cell_type": "code",
   "execution_count": 5,
   "metadata": {},
   "outputs": [],
   "source": [
    "# Converting list from int to string values so that we can slice values of the numbers for comparisons\n",
    "product_unique_str = [str(x) for x in product_unique]\n",
    "#print(product_unique_str)"
   ]
  },
  {
   "cell_type": "code",
   "execution_count": 6,
   "metadata": {
    "scrolled": false
   },
   "outputs": [
    {
     "name": "stdout",
     "output_type": "stream",
     "text": [
      "<class 'list'>\n",
      "There are 655 palindromes\n"
     ]
    }
   ],
   "source": [
    "# Creating an empty list\n",
    "palindrome = []\n",
    "\n",
    "# Identifying values where:\n",
    "#   (1) the first and the last digit are equal\n",
    "#   (2) the second and second from last digit are equal\n",
    "#   (3) the third and third from the last digit are equal\n",
    "# Appending values to a palindrome list that meet criteria above\n",
    "for i in range(0, len(product_unique_str)):\n",
    "    if (product_unique_str[i][0] == product_unique_str[i][-1]) and (product_unique_str[i][1] == product_unique_str[i][-2]) and (product_unique_str[i][2] == product_unique_str[i][-3]):\n",
    "        palindrome.append(product_unique_str[i])\n",
    "        \n",
    "#print(palindrome)\n",
    "print(type(palindrome))\n",
    "print('There are ' + str(len(palindrome)) + ' palindromes')"
   ]
  },
  {
   "cell_type": "code",
   "execution_count": 7,
   "metadata": {},
   "outputs": [],
   "source": [
    "# Converting list from string to int values\n",
    "palindrome_int = [int(i) for i in palindrome]\n",
    "#palindrome"
   ]
  },
  {
   "cell_type": "code",
   "execution_count": 8,
   "metadata": {
    "scrolled": true
   },
   "outputs": [
    {
     "name": "stdout",
     "output_type": "stream",
     "text": [
      "The largest palindrome from the product of two three-digit numbers: 906609\n",
      "906609\n"
     ]
    }
   ],
   "source": [
    "print(\"The largest palindrome from the product of two three-digit numbers:\", max(palindrome_int))\n",
    "print(palindrome_int[-1])"
   ]
  },
  {
   "cell_type": "markdown",
   "metadata": {},
   "source": [
    "### Challenge 2: Summation of Primes\n",
    "The sum of the primes below 10 is 2 + 3 + 5 + 7 = 17. Find the sum of all the primes below 2,000. Afterward, write a brief explanation walking through your code's logic in markdown."
   ]
  },
  {
   "cell_type": "code",
   "execution_count": 9,
   "metadata": {
    "scrolled": true
   },
   "outputs": [
    {
     "name": "stdout",
     "output_type": "stream",
     "text": [
      "[2, 3, 5, 7, 11, 13, 17, 19, 23, 29, 31, 37, 41, 43, 47, 53, 59, 61, 67, 71, 73, 79, 83, 89, 97, 101, 103, 107, 109, 113, 127, 131, 137, 139, 149, 151, 157, 163, 167, 173, 179, 181, 191, 193, 197, 199, 211, 223, 227, 229, 233, 239, 241, 251, 257, 263, 269, 271, 277, 281, 283, 293, 307, 311, 313, 317, 331, 337, 347, 349, 353, 359, 367, 373, 379, 383, 389, 397, 401, 409, 419, 421, 431, 433, 439, 443, 449, 457, 461, 463, 467, 479, 487, 491, 499, 503, 509, 521, 523, 541, 547, 557, 563, 569, 571, 577, 587, 593, 599, 601, 607, 613, 617, 619, 631, 641, 643, 647, 653, 659, 661, 673, 677, 683, 691, 701, 709, 719, 727, 733, 739, 743, 751, 757, 761, 769, 773, 787, 797, 809, 811, 821, 823, 827, 829, 839, 853, 857, 859, 863, 877, 881, 883, 887, 907, 911, 919, 929, 937, 941, 947, 953, 967, 971, 977, 983, 991, 997, 1009, 1013, 1019, 1021, 1031, 1033, 1039, 1049, 1051, 1061, 1063, 1069, 1087, 1091, 1093, 1097, 1103, 1109, 1117, 1123, 1129, 1151, 1153, 1163, 1171, 1181, 1187, 1193, 1201, 1213, 1217, 1223, 1229, 1231, 1237, 1249, 1259, 1277, 1279, 1283, 1289, 1291, 1297, 1301, 1303, 1307, 1319, 1321, 1327, 1361, 1367, 1373, 1381, 1399, 1409, 1423, 1427, 1429, 1433, 1439, 1447, 1451, 1453, 1459, 1471, 1481, 1483, 1487, 1489, 1493, 1499, 1511, 1523, 1531, 1543, 1549, 1553, 1559, 1567, 1571, 1579, 1583, 1597, 1601, 1607, 1609, 1613, 1619, 1621, 1627, 1637, 1657, 1663, 1667, 1669, 1693, 1697, 1699, 1709, 1721, 1723, 1733, 1741, 1747, 1753, 1759, 1777, 1783, 1787, 1789, 1801, 1811, 1823, 1831, 1847, 1861, 1867, 1871, 1873, 1877, 1879, 1889, 1901, 1907, 1913, 1931, 1933, 1949, 1951, 1973, 1979, 1987, 1993, 1997, 1999]\n",
      "<class 'list'>\n",
      "There are 303 prime numbers below 2000\n"
     ]
    }
   ],
   "source": [
    "# Creating an empty list\n",
    "prime_list = []\n",
    "\n",
    "# Evaluating numbers from 2 to 1999 (note: we know 1 is not a prime number by definition)\n",
    "for i in range(2, 2000):\n",
    "    # Assign the number to be prime\n",
    "    # Determine whether a number is not prime by examining if i%num yields no remainder in any of the iterations:\n",
    "    prime = True\n",
    "    for num in range(2, i):\n",
    "        if i%num == 0:\n",
    "            prime = False\n",
    "            break\n",
    "      \n",
    "    if prime == True:\n",
    "        prime_list.append(i)\n",
    "        \n",
    "print(prime_list)\n",
    "print(type(prime_list))\n",
    "print('There are ' + str(len(prime_list)) + ' prime numbers below 2000') "
   ]
  },
  {
   "cell_type": "code",
   "execution_count": 10,
   "metadata": {},
   "outputs": [
    {
     "name": "stdout",
     "output_type": "stream",
     "text": [
      "The sum of the primes below 2000: 277050\n"
     ]
    }
   ],
   "source": [
    "print(\"The sum of the primes below 2000:\", sum(prime_list))"
   ]
  },
  {
   "cell_type": "code",
   "execution_count": 11,
   "metadata": {},
   "outputs": [
    {
     "name": "stdout",
     "output_type": "stream",
     "text": [
      "[2, 3, 5, 7, 11, 13, 17, 19, 23, 29, 31, 37, 41, 43, 47, 53, 59, 61, 67, 71, 73, 79, 83, 89, 97, 101, 103, 107, 109, 113, 127, 131, 137, 139, 149, 151, 157, 163, 167, 173, 179, 181, 191, 193, 197, 199, 211, 223, 227, 229, 233, 239, 241, 251, 257, 263, 269, 271, 277, 281, 283, 293, 307, 311, 313, 317, 331, 337, 347, 349, 353, 359, 367, 373, 379, 383, 389, 397, 401, 409, 419, 421, 431, 433, 439, 443, 449, 457, 461, 463, 467, 479, 487, 491, 499, 503, 509, 521, 523, 541, 547, 557, 563, 569, 571, 577, 587, 593, 599, 601, 607, 613, 617, 619, 631, 641, 643, 647, 653, 659, 661, 673, 677, 683, 691, 701, 709, 719, 727, 733, 739, 743, 751, 757, 761, 769, 773, 787, 797, 809, 811, 821, 823, 827, 829, 839, 853, 857, 859, 863, 877, 881, 883, 887, 907, 911, 919, 929, 937, 941, 947, 953, 967, 971, 977, 983, 991, 997, 1009, 1013, 1019, 1021, 1031, 1033, 1039, 1049, 1051, 1061, 1063, 1069, 1087, 1091, 1093, 1097, 1103, 1109, 1117, 1123, 1129, 1151, 1153, 1163, 1171, 1181, 1187, 1193, 1201, 1213, 1217, 1223, 1229, 1231, 1237, 1249, 1259, 1277, 1279, 1283, 1289, 1291, 1297, 1301, 1303, 1307, 1319, 1321, 1327, 1361, 1367, 1373, 1381, 1399, 1409, 1423, 1427, 1429, 1433, 1439, 1447, 1451, 1453, 1459, 1471, 1481, 1483, 1487, 1489, 1493, 1499, 1511, 1523, 1531, 1543, 1549, 1553, 1559, 1567, 1571, 1579, 1583, 1597, 1601, 1607, 1609, 1613, 1619, 1621, 1627, 1637, 1657, 1663, 1667, 1669, 1693, 1697, 1699, 1709, 1721, 1723, 1733, 1741, 1747, 1753, 1759, 1777, 1783, 1787, 1789, 1801, 1811, 1823, 1831, 1847, 1861, 1867, 1871, 1873, 1877, 1879, 1889, 1901, 1907, 1913, 1931, 1933, 1949, 1951, 1973, 1979, 1987, 1993, 1997, 1999]\n",
      "<class 'list'>\n",
      "There are 303 prime numbers below 2000\n"
     ]
    }
   ],
   "source": [
    "# Further optimization\n",
    "# (1) We can exclude even numbers because all even numbers are divisible by 2\n",
    "# (2) We can iterate through the integer of the square root of the number we are evaluating (int(i**0.5) + 1) \n",
    "#     because the factors above this value are the reverse of the factors already evaluated\n",
    "\n",
    "# Creating an empty list\n",
    "prime_list = []\n",
    "\n",
    "# Evaluating numbers from 2 to 1999 (note: we know 1 is not a prime number by definition)\n",
    "i = 2\n",
    "if i == 2:\n",
    "    prime_list.append(i)\n",
    "\n",
    "for i in range(3, 2000, 2):\n",
    "    # Assign the number to be prime\n",
    "    # Determine whether a number is not prime by examining if i%num yields no remainder in any of the iterations:\n",
    "    prime = True\n",
    "    for num in range(2, int(i**0.5) + 1):\n",
    "        if i%num == 0:\n",
    "            prime = False\n",
    "            break\n",
    "      \n",
    "    if prime == True:\n",
    "        prime_list.append(i)\n",
    "        \n",
    "print(prime_list)\n",
    "print(type(prime_list))\n",
    "print('There are ' + str(len(prime_list)) + ' prime numbers below 2000') "
   ]
  },
  {
   "cell_type": "code",
   "execution_count": 12,
   "metadata": {},
   "outputs": [
    {
     "name": "stdout",
     "output_type": "stream",
     "text": [
      "The sum of the primes below 2000: 277050\n"
     ]
    }
   ],
   "source": [
    "print(\"The sum of the primes below 2000:\", sum(prime_list))"
   ]
  },
  {
   "cell_type": "markdown",
   "metadata": {},
   "source": [
    "### Challenge 3: Multiples of 3 and 5\n",
    "If we list all of the natural numbers below 10 that are multiples of 3 or 5, we get 3, 5, 6, and 9. The sum of these multiples is 23. Find the sum of all the multiples of 3 and 5 below 1,000. Afterward, write a brief explanation walking through your code's logic in markdown."
   ]
  },
  {
   "cell_type": "code",
   "execution_count": 13,
   "metadata": {},
   "outputs": [
    {
     "name": "stdout",
     "output_type": "stream",
     "text": [
      "<class 'list'>\n",
      "There are 466 unique values that are multiples of 3 or 5\n"
     ]
    }
   ],
   "source": [
    "# Creating lists of multiples of 3 and 5 below 1000\n",
    "multiples_of_3_list = list(range(3, 1000, 3))\n",
    "#print(multiples_of_3_list)\n",
    "multiples_of_5_list = list(range(5, 1000, 5))\n",
    "#print(multiples_of_5_list)\n",
    "\n",
    "# Combining lists of multiples\n",
    "multiples_of_3_5_list = multiples_of_3_list + multiples_of_5_list\n",
    "#print(multiples_of_3_5_list)\n",
    "\n",
    "# Find the unique values from the multiples_of_3_5_list list because there are duplicates\n",
    "# The unique() function also sorts the values\n",
    "multiples_of_3_5_list_unique = np.unique(multiples_of_3_5_list).tolist()\n",
    "#print(multiples_of_3_5_list_unique)\n",
    "print(type(multiples_of_3_5_list_unique))\n",
    "print('There are ' + str(len(multiples_of_3_5_list_unique)) + ' unique values that are multiples of 3 or 5')"
   ]
  },
  {
   "cell_type": "code",
   "execution_count": 14,
   "metadata": {},
   "outputs": [
    {
     "name": "stdout",
     "output_type": "stream",
     "text": [
      "The sum of the multiples of 3 or 5 below 1000: 233168\n"
     ]
    }
   ],
   "source": [
    "print(\"The sum of the multiples of 3 or 5 below 1000:\", sum(multiples_of_3_5_list_unique))"
   ]
  },
  {
   "cell_type": "markdown",
   "metadata": {},
   "source": [
    "### Challenge 4: String Compressor\n",
    "Implement a method to perform basic string compression using the counts of repeated characters. (This is called run-length encoding.) For example, the string \"aabcccccaaa\" would become a2b1c5a3. If the “compressed” string would not become smaller than the original string, your method should return the original string. You can assume the string has only uppercase and lowercase letters (a–z). Specify whether your solution is case sensitive or case insensitive and what you would need to change to make it the other. Afterward, write a brief explanation walking through your code's logic in markdown."
   ]
  },
  {
   "cell_type": "code",
   "execution_count": 15,
   "metadata": {},
   "outputs": [],
   "source": [
    "string = 'aabcccccaaa'"
   ]
  },
  {
   "cell_type": "code",
   "execution_count": 16,
   "metadata": {},
   "outputs": [
    {
     "name": "stdout",
     "output_type": "stream",
     "text": [
      "a2b1c5a3\n"
     ]
    }
   ],
   "source": [
    "def string_compressor(string):\n",
    "    string_compressed = ''\n",
    "    # Initializing count as 0; used for counting the number of times a letter occurs in a row\n",
    "    count = 0\n",
    "    # Initializing letter to the first character of string (i.e., string[0])\n",
    "    i = 0\n",
    "    letter = string[i]\n",
    "\n",
    "    # Looping through the string from first to last character\n",
    "    for i in range(0, len(string)):\n",
    "        # If the character of string is equal to letter, add 1 to count\n",
    "        if string[i] == letter:\n",
    "            count += 1\n",
    "            #print('--------------')\n",
    "            #print('This letter is the same as the previous')\n",
    "            #print('i =', i, 'letter =', letter, 'count =', count)    \n",
    "        \n",
    "        # If the character of string is not equal to letter:\n",
    "        else:\n",
    "            # string_compressed is appended the value equal to letter and count from last loop\n",
    "            string_compressed += (str(letter)+str(count))\n",
    "            # letter is reassigned to value of current loop and count is assigned value 1\n",
    "            letter = string[i]\n",
    "            count = 1\n",
    "            #print('==============')\n",
    "            #print('This letter is different from the previous')\n",
    "            #print('i =', i, 'letter =', letter, 'count =', count)\n",
    "            #print(string_compressed)\n",
    "        \n",
    "        # If last loop of the string, then string_compressed is appended the value equal to letter and count from last loop\n",
    "        if i == (len(string)-1):\n",
    "            string_compressed += (str(letter)+str(count))\n",
    "            #print('~~~~~~~~~~~~~~~~') \n",
    "            #print('i =', i)        \n",
    "        \n",
    "    # Return the original string if the “compressed” string is not smaller than the original string\n",
    "    if len(string_compressed) >= len(string):\n",
    "        string_compressed = string\n",
    "    #print(type(string_compressed))\n",
    "    \n",
    "    return print(string_compressed)\n",
    "\n",
    "string_compressor(string)"
   ]
  },
  {
   "cell_type": "markdown",
   "metadata": {},
   "source": [
    "### *BONUS* Challenge: FizzBuzz\n",
    "Write a program that prints all of the numbers from 1 to 100. For multiples of 3, instead of the number, print \"Fizz;\" for multiples of 5, print \"Buzz.\" For numbers that are multiples of both 3 and 5, print \"FizzBuzz.\" Afterward, write a brief explanation walking through your code's logic in markdown."
   ]
  },
  {
   "cell_type": "code",
   "execution_count": 17,
   "metadata": {},
   "outputs": [
    {
     "name": "stdout",
     "output_type": "stream",
     "text": [
      "1\n",
      "2\n",
      "Fizz\n",
      "4\n",
      "Buzz\n",
      "Fizz\n",
      "7\n",
      "8\n",
      "Fizz\n",
      "Buzz\n",
      "11\n",
      "Fizz\n",
      "13\n",
      "14\n",
      "FizzBuzz\n",
      "16\n",
      "17\n",
      "Fizz\n",
      "19\n",
      "Buzz\n",
      "Fizz\n",
      "22\n",
      "23\n",
      "Fizz\n",
      "Buzz\n",
      "26\n",
      "Fizz\n",
      "28\n",
      "29\n",
      "FizzBuzz\n",
      "31\n",
      "32\n",
      "Fizz\n",
      "34\n",
      "Buzz\n",
      "Fizz\n",
      "37\n",
      "38\n",
      "Fizz\n",
      "Buzz\n",
      "41\n",
      "Fizz\n",
      "43\n",
      "44\n",
      "FizzBuzz\n",
      "46\n",
      "47\n",
      "Fizz\n",
      "49\n",
      "Buzz\n",
      "Fizz\n",
      "52\n",
      "53\n",
      "Fizz\n",
      "Buzz\n",
      "56\n",
      "Fizz\n",
      "58\n",
      "59\n",
      "FizzBuzz\n",
      "61\n",
      "62\n",
      "Fizz\n",
      "64\n",
      "Buzz\n",
      "Fizz\n",
      "67\n",
      "68\n",
      "Fizz\n",
      "Buzz\n",
      "71\n",
      "Fizz\n",
      "73\n",
      "74\n",
      "FizzBuzz\n",
      "76\n",
      "77\n",
      "Fizz\n",
      "79\n",
      "Buzz\n",
      "Fizz\n",
      "82\n",
      "83\n",
      "Fizz\n",
      "Buzz\n",
      "86\n",
      "Fizz\n",
      "88\n",
      "89\n",
      "FizzBuzz\n",
      "91\n",
      "92\n",
      "Fizz\n",
      "94\n",
      "Buzz\n",
      "Fizz\n",
      "97\n",
      "98\n",
      "Fizz\n",
      "Buzz\n"
     ]
    }
   ],
   "source": [
    "# Printing numbers from 1 to 100\n",
    "for i in range(1, 101):\n",
    "    # Using modulus operator (i.e, remainder operator) to determine whether a number is a multiple of another number\n",
    "    # -> e.g., If i%num == 0, then the number i is a multiple of num because there is no remainder\n",
    "    # Printing numbers that are multiples of both 3 and 5\n",
    "    if i%3 == 0 and i%5 == 0:\n",
    "        print('FizzBuzz')\n",
    "    # Printing numbers that are multiples of 3\n",
    "    elif i%3 == 0:\n",
    "        print('Fizz')\n",
    "    # Printing numbers that are multiples of 5\n",
    "    elif i%5 == 0:\n",
    "        print('Buzz')\n",
    "    # Printing numbers that are not multiples of 3 or 5\n",
    "    else:\n",
    "        print(i)"
   ]
  },
  {
   "cell_type": "code",
   "execution_count": null,
   "metadata": {},
   "outputs": [],
   "source": []
  }
 ],
 "metadata": {
  "kernelspec": {
   "display_name": "Python 3",
   "language": "python",
   "name": "python3"
  },
  "language_info": {
   "codemirror_mode": {
    "name": "ipython",
    "version": 3
   },
   "file_extension": ".py",
   "mimetype": "text/x-python",
   "name": "python",
   "nbconvert_exporter": "python",
   "pygments_lexer": "ipython3",
   "version": "3.6.5"
  }
 },
 "nbformat": 4,
 "nbformat_minor": 2
}
